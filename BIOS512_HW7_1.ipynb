{
  "cells": [
    {
      "cell_type": "markdown",
      "id": "766a4c53-5596-4e39-9082-8e97c8e59c41",
      "metadata": {
        "id": "766a4c53-5596-4e39-9082-8e97c8e59c41"
      },
      "source": [
        "# Homework 7\n",
        "This homework is based on the advanced Git lectures."
      ]
    },
    {
      "cell_type": "markdown",
      "id": "bbb6e943-d49a-4d2e-81f3-59c2d1a3be31",
      "metadata": {
        "id": "bbb6e943-d49a-4d2e-81f3-59c2d1a3be31"
      },
      "source": [
        "## Question 1\n",
        "#### What is the holy trinity of Git? (Just name the parts.)"
      ]
    },
    {
      "cell_type": "markdown",
      "source": [
        "Branch, Working copy, and staging area."
      ],
      "metadata": {
        "id": "b4HsZVOicSk3"
      },
      "id": "b4HsZVOicSk3"
    },
    {
      "cell_type": "markdown",
      "id": "47bc27c0-290e-4e94-a071-a37ff613a7c8",
      "metadata": {
        "id": "47bc27c0-290e-4e94-a071-a37ff613a7c8"
      },
      "source": [
        "## Question 2\n",
        "#### Explain how patches relate to the idea of committing a change to the history of your code?"
      ]
    },
    {
      "cell_type": "markdown",
      "source": [
        " A patch shows the differences between two versions of your code. When you make a commit, Git takes that patch and saves it as part of your project's history. So every commit is like adding a patch that updates your code."
      ],
      "metadata": {
        "id": "7GCAndVRcW9l"
      },
      "id": "7GCAndVRcW9l"
    },
    {
      "cell_type": "markdown",
      "id": "9aa99e0b-8fbe-4ccc-a728-b39b1fda153c",
      "metadata": {
        "id": "9aa99e0b-8fbe-4ccc-a728-b39b1fda153c"
      },
      "source": [
        "## Question 3\n",
        "#### What is the difference between a branch and a fork?"
      ]
    },
    {
      "cell_type": "markdown",
      "source": [
        "A branch is the history of your code, a linear series of commits. So a branch just points to a commit. A fork is a copy of a repository that is permanently separate from the original (different from a branch, as a branch is temporary and part of the same repository)."
      ],
      "metadata": {
        "id": "u7_Eoz70cmx8"
      },
      "id": "u7_Eoz70cmx8"
    },
    {
      "cell_type": "markdown",
      "id": "c6ac98c7-e4ea-4274-a88d-398cb739fab9",
      "metadata": {
        "id": "c6ac98c7-e4ea-4274-a88d-398cb739fab9"
      },
      "source": [
        "## Question 4\n",
        "#### How are diff and patch related? What’s the difference?"
      ]
    },
    {
      "cell_type": "markdown",
      "source": [
        "Diff shows the changes between two files - what lines were added or removed. Patch takes that diff and applies it to a file to update it."
      ],
      "metadata": {
        "id": "L5bV1UcDfztr"
      },
      "id": "L5bV1UcDfztr"
    },
    {
      "cell_type": "markdown",
      "id": "02988321-54d5-4086-a62f-d6f7a5961c22",
      "metadata": {
        "id": "02988321-54d5-4086-a62f-d6f7a5961c22"
      },
      "source": [
        "## Question 5\n",
        "#### See the diagram below.\n",
        "```\n",
        "alice            *-*-*-*-d-e     \n",
        "bob              *-*-*-*-a-b-c\n",
        "origin/main      *-*-*-*-a-b-c\n",
        "```\n",
        "#### a) What part of the Git trininty does each line represent?\n",
        "#### b) What would the result be if Alice performed a rebase? Edit the diagram. What would she type in the terminal to rebase, then push?\n",
        "#### c) What would the result be if Alice performed a merge? Edit the diagram. What would she type in the terminal to merge, then push?\n",
        "#### d) Which would be the better option (rebase vs. merge)? Why?"
      ]
    },
    {
      "cell_type": "code",
      "source": [
        "a) Alice: working copy; Bob: branch; Origin/main: staging area.\n",
        "\n",
        "b) Her commits (d,e) will be reapplied on top of Bob's commits (a,b,c), creating a clean, linear history.\n",
        "\n",
        "new diagram:\n",
        "alice            *-*-*-*-a-b-c-d-e\n",
        "bob              *-*-*-*-a-b-c\n",
        "origin/main      *-*-*-*-a-b-c\n",
        "\n",
        "Commands:\n",
        "git fetch origin\n",
        "git rebase origin/main\n",
        "git push --force-with-lease\n",
        "\n",
        "c) If alice performs a merge her branch will combine with Bob's, keeping both histories and creating a merge commit.\n",
        "\n",
        "new diagram:\n",
        "alice            *-*-*-*-a-b-c----m\n",
        "                 \\             /\n",
        "                  *-*-*-*-d-e\n",
        "bob              *-*-*-*-a-b-c\n",
        "origin/main      *-*-*-*-a-b-c\n",
        "\n",
        "commands:\n",
        "git fetch origin\n",
        "git merge origin/main\n",
        "git push\n",
        "\n",
        "d)the better option would be rebase because it creates a cleaner, linear history and avoids messy merge commits."
      ],
      "metadata": {
        "id": "E8xSkE3HheyV"
      },
      "id": "E8xSkE3HheyV",
      "execution_count": null,
      "outputs": []
    },
    {
      "cell_type": "markdown",
      "id": "65b5eb8a-cee0-4a97-b89c-8746c37669ea",
      "metadata": {
        "id": "65b5eb8a-cee0-4a97-b89c-8746c37669ea"
      },
      "source": [
        "## Question 6\n",
        "#### Match the command/vocab word to the description.\n",
        "You can edit the table!\n",
        "\n",
        "| Command / Vocab     | Answer | Description |\n",
        "|---------------------|------------|------------|\n",
        "| git stash          |  | A.  Gives project history |\n",
        "| git push           |  | B.  Takes any changes that haven't been committed and puts them in a dust bin |\n",
        "| git clone          |  | C.  Shows who last modified each line of a file and in which commit |\n",
        "| git commit         |  | D.  Retrieves any commits on the remote branch that you don’t yet have locally and integrates them into your current branch |\n",
        "| git log            |  | E.  Moves something from the branch to the working copy |\n",
        "| git add -i         | | F.  Lists which files are staged, unstaged, and untracked |\n",
        "| git rebase         |  | G.  Displays information about a specific commit |\n",
        "| git init           |  | H.  Combines two branches together in a way that is not ideal for your collaborators |\n",
        "| git checkout       |  | I.  Adds changes from the working directory to the staging area |\n",
        "| git status         |  | J.  Pushes the new commits to the main branch |\n",
        "| git diff           |  | K.  Interactive staging! |\n",
        "| git merge          |  | L.  Text file that contains names of files Git should not track |\n",
        "| git add            |  | M.  Saves file changes to the main branch |\n",
        "| git pull           |  | N.  Makes a copy of an existing repo at in a new directory at another location |\n",
        "| git show           |  | O.  Compares current, unsaved changes to the main branch |\n",
        "| git blame          |  | P.  Combines branches by moving commits onto the tip of another branch, creating a linear history |\n",
        "| .gitignore         |  | Q. Creates a new git repository |"
      ]
    },
    {
      "cell_type": "code",
      "source": [
        "git stash: B\n",
        "git push: J\n",
        "git clone: N\n",
        "git commit: M\n",
        "git log: A\n",
        "git add -i: K\n",
        "git rebase: P\n",
        "git init: Q\n",
        "git checkout: E\n",
        "git status: F\n",
        "git diff: O\n",
        "git merge: H\n",
        "git add: I\n",
        "git pull: D\n",
        "git show: G\n",
        "git blame: C\n",
        ".gitignore: L"
      ],
      "metadata": {
        "id": "EJmS_EmqhpYI"
      },
      "id": "EJmS_EmqhpYI",
      "execution_count": null,
      "outputs": []
    },
    {
      "cell_type": "markdown",
      "id": "36663f18-7e8a-4400-86ef-1cbda6b508c1",
      "metadata": {
        "id": "36663f18-7e8a-4400-86ef-1cbda6b508c1"
      },
      "source": [
        "## Question 7\n",
        "#### Walk me through how you would do interactive staging.\n",
        "#### a) Firstly, what situation would interactive staging be useful in?\n",
        "#### b) What command(s) help you prepare for what you'll see while interactive staging?\n",
        "*Hint*: Check the TA notes.\n",
        "#### c) What git command would you use to start interactive staging?\n",
        "\n",
        "#### d) On the text-based interactive menu, what option do you use?\n",
        "\n",
        "#### e) After pressing that option, how do you select the file you want to stage?\n",
        "\n",
        "#### f) What option do you type if you do not want to stage a hunk?\n",
        "\n",
        "#### g) Once you get to a hunk you want to stage, what do you do?\n",
        "\n",
        "#### h) What if we have more hunks we want to stage?\n"
      ]
    },
    {
      "cell_type": "markdown",
      "source": [
        "a) interactive staging would be useful when you've made multiple changes but only want to commit some of them.\n",
        "\n",
        "b) git status and git diff to review what's changed\n",
        "\n",
        "c) git add -i\n",
        "\n",
        "d) option 5(patch)\n",
        "\n",
        "e) After pressing 5, you see a list of changed files. Type the number of the file you want to stage, then press Enter.\n",
        "\n",
        "f) type n\n",
        "\n",
        "g) type y and press Enter\n",
        "\n",
        "h) continue typing y for each one, or restart git ass -i later to stage the rest."
      ],
      "metadata": {
        "id": "rl6aTncziHQX"
      },
      "id": "rl6aTncziHQX"
    }
  ],
  "metadata": {
    "kernelspec": {
      "display_name": "Python 3 (ipykernel)",
      "language": "python",
      "name": "python3"
    },
    "language_info": {
      "codemirror_mode": {
        "name": "ipython",
        "version": 3
      },
      "file_extension": ".py",
      "mimetype": "text/x-python",
      "name": "python",
      "nbconvert_exporter": "python",
      "pygments_lexer": "ipython3",
      "version": "3.10.16"
    },
    "colab": {
      "provenance": []
    }
  },
  "nbformat": 4,
  "nbformat_minor": 5
}